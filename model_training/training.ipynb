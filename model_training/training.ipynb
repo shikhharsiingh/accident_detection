{
 "cells": [
  {
   "cell_type": "code",
   "execution_count": 1,
   "metadata": {},
   "outputs": [],
   "source": [
    "model_name = \"my_ssd_mobnet\""
   ]
  },
  {
   "cell_type": "code",
   "execution_count": 4,
   "metadata": {},
   "outputs": [],
   "source": [
    "!mkdir {'models'}\n"
   ]
  },
  {
   "cell_type": "code",
   "execution_count": 5,
   "metadata": {},
   "outputs": [],
   "source": [
    "pretrained_model_name = 'ssd_mobilenet_v2_fpnlite_640x640_coco17_tpu-8'\n",
    "model_link = 'http://download.tensorflow.org/models/object_detection/tf2/20200711/ssd_mobilenet_v2_fpnlite_640x640_coco17_tpu-8.tar.gz'\n",
    "label_map_name = 'label_map.pbtxt'"
   ]
  },
  {
   "cell_type": "code",
   "execution_count": 6,
   "metadata": {},
   "outputs": [],
   "source": [
    "import os"
   ]
  },
  {
   "cell_type": "code",
   "execution_count": null,
   "metadata": {},
   "outputs": [],
   "source": [
    "paths = {\n",
    "    'pretrained_model_path' : os.join('models', pretrained_model_name)\n",
    "    \n",
    "}"
   ]
  },
  {
   "cell_type": "code",
   "execution_count": 8,
   "metadata": {},
   "outputs": [
    {
     "name": "stdout",
     "output_type": "stream",
     "text": [
      "Requirement already satisfied: pyyaml in /usr/local/Caskroom/miniconda/base/envs/ml/lib/python3.8/site-packages (5.4.1)\n"
     ]
    }
   ],
   "source": [
    "!pip install pyyaml"
   ]
  },
  {
   "cell_type": "code",
   "execution_count": 10,
   "metadata": {},
   "outputs": [
    {
     "name": "stdout",
     "output_type": "stream",
     "text": [
      "Package                 Version\n",
      "----------------------- -------------------\n",
      "absl-py                 0.13.0\n",
      "albumentations          1.0.3\n",
      "appnope                 0.1.2\n",
      "astroid                 2.6.2\n",
      "astunparse              1.6.3\n",
      "attrs                   21.2.0\n",
      "backcall                0.2.0\n",
      "blis                    0.7.4\n",
      "cachetools              4.2.2\n",
      "catalogue               2.0.4\n",
      "certifi                 2021.5.30\n",
      "charset-normalizer      2.0.3\n",
      "clang                   5.0\n",
      "click                   7.1.2\n",
      "cycler                  0.10.0\n",
      "cymem                   2.0.5\n",
      "debugpy                 1.4.1\n",
      "decorator               5.0.9\n",
      "entrypoints             0.3\n",
      "flatbuffers             1.12\n",
      "gast                    0.4.0\n",
      "google-auth             1.33.0\n",
      "google-auth-oauthlib    0.4.4\n",
      "google-pasta            0.2.0\n",
      "grpcio                  1.38.1\n",
      "h5py                    3.1.0\n",
      "idna                    3.2\n",
      "imageio                 2.9.0\n",
      "imgaug                  0.4.0\n",
      "ipykernel               6.2.0\n",
      "ipython                 7.27.0\n",
      "ipython-genutils        0.2.0\n",
      "isort                   5.9.2\n",
      "jedi                    0.18.0\n",
      "Jinja2                  3.0.1\n",
      "joblib                  1.0.1\n",
      "jupyter-client          7.0.1\n",
      "jupyter-core            4.7.1\n",
      "keras                   2.6.0\n",
      "Keras-Preprocessing     1.1.2\n",
      "kiwisolver              1.3.1\n",
      "lazy-object-proxy       1.6.0\n",
      "Markdown                3.3.4\n",
      "MarkupSafe              2.0.1\n",
      "matplotlib              3.4.2\n",
      "matplotlib-inline       0.1.2\n",
      "mccabe                  0.6.1\n",
      "mediapipe               0.8.7.3\n",
      "mkl-fft                 1.3.0\n",
      "mkl-random              1.2.1\n",
      "mkl-service             2.4.0\n",
      "murmurhash              1.0.5\n",
      "nest-asyncio            1.5.1\n",
      "networkx                2.5.1\n",
      "numpy                   1.19.5\n",
      "oauthlib                3.1.1\n",
      "olefile                 0.46\n",
      "opencv-contrib-python   4.5.3.56\n",
      "opencv-python           4.5.3.56\n",
      "opencv-python-headless  4.5.3.56\n",
      "opt-einsum              3.3.0\n",
      "packaging               21.0\n",
      "pandas                  1.3.0\n",
      "parso                   0.8.2\n",
      "pathy                   0.6.0\n",
      "pexpect                 4.8.0\n",
      "pickleshare             0.7.5\n",
      "Pillow                  8.3.1\n",
      "pip                     21.1.3\n",
      "preshed                 3.0.5\n",
      "prompt-toolkit          3.0.19\n",
      "protobuf                3.17.3\n",
      "ptyprocess              0.7.0\n",
      "pyasn1                  0.4.8\n",
      "pyasn1-modules          0.2.8\n",
      "pydantic                1.8.2\n",
      "pygame                  2.0.1\n",
      "Pygments                2.10.0\n",
      "pylint                  2.9.3\n",
      "pyparsing               2.4.7\n",
      "python-dateutil         2.8.2\n",
      "pytz                    2021.1\n",
      "PyWavelets              1.1.1\n",
      "PyYAML                  5.4.1\n",
      "pyzmq                   22.2.1\n",
      "requests                2.26.0\n",
      "requests-oauthlib       1.3.0\n",
      "rsa                     4.7.2\n",
      "scikit-image            0.18.2\n",
      "scikit-learn            0.24.2\n",
      "scipy                   1.7.0\n",
      "setuptools              52.0.0.post20210125\n",
      "Shapely                 1.7.1\n",
      "six                     1.15.0\n",
      "smart-open              5.1.0\n",
      "spacy                   3.1.1\n",
      "spacy-legacy            3.0.8\n",
      "srsly                   2.4.1\n",
      "tensorboard             2.6.0\n",
      "tensorboard-data-server 0.6.1\n",
      "tensorboard-plugin-wit  1.8.0\n",
      "tensorflow              2.6.0\n",
      "tensorflow-estimator    2.6.0\n",
      "termcolor               1.1.0\n",
      "thinc                   8.0.8\n",
      "threadpoolctl           2.2.0\n",
      "tifffile                2021.7.2\n",
      "toml                    0.10.2\n",
      "torch                   1.9.0\n",
      "torch-tb-profiler       0.2.1\n",
      "torchaudio              0.9.0a0+33b2469\n",
      "torchvision             0.10.0\n",
      "tornado                 6.1\n",
      "tqdm                    4.61.2\n",
      "traitlets               5.0.5\n",
      "typer                   0.3.2\n",
      "typing-extensions       3.7.4.3\n",
      "urllib3                 1.26.6\n",
      "utils                   1.0.1\n",
      "wasabi                  0.8.2\n",
      "wcwidth                 0.2.5\n",
      "Werkzeug                2.0.1\n",
      "wheel                   0.36.2\n",
      "wrapt                   1.12.1\n"
     ]
    }
   ],
   "source": [
    "!pip list"
   ]
  },
  {
   "cell_type": "code",
   "execution_count": 7,
   "metadata": {},
   "outputs": [
    {
     "name": "stdout",
     "output_type": "stream",
     "text": [
      "zsh:1: command not found: wget\n",
      "mv: rename ssd_mobilenet_v2_fpnlite_640x640_coco17_tpu-8.tar.gz to models/ssd_mobilenet_v2_fpnlite_640x640_coco17_tpu-8: No such file or directory\n",
      "zsh:cd:1: no such file or directory: models/ssd_mobilenet_v2_fpnlite_640x640_coco17_tpu-8\n"
     ]
    }
   ],
   "source": [
    "if os.name == 'posix':\n",
    "    !wget {model_link}\n",
    "    !mv {pretrained_model_name+'.tar.gz'} {'models/' + pretrained_model_name}\n",
    "    !cd {'models/' + pretrained_model_name} && tar -zxvf{pretrained_model_name + '.tar.gz'}"
   ]
  },
  {
   "cell_type": "code",
   "execution_count": null,
   "metadata": {},
   "outputs": [],
   "source": []
  }
 ],
 "metadata": {
  "interpreter": {
   "hash": "7abeabf765668222793eec3cf128cec021e6c70353d7b99939eb9124b1ae1109"
  },
  "kernelspec": {
   "display_name": "Python 3.8.10 64-bit ('ml': conda)",
   "name": "python3"
  },
  "language_info": {
   "codemirror_mode": {
    "name": "ipython",
    "version": 3
   },
   "file_extension": ".py",
   "mimetype": "text/x-python",
   "name": "python",
   "nbconvert_exporter": "python",
   "pygments_lexer": "ipython3",
   "version": "3.8.10"
  },
  "orig_nbformat": 4
 },
 "nbformat": 4,
 "nbformat_minor": 2
}
